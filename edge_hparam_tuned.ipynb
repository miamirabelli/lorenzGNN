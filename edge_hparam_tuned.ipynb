{
 "cells": [
  {
   "cell_type": "markdown",
   "metadata": {},
   "source": [
    "# Hyperparam Tuning"
   ]
  },
  {
   "cell_type": "markdown",
   "metadata": {},
   "source": [
    "## 3 Edge Config"
   ]
  },
  {
   "cell_type": "code",
   "execution_count": 1,
   "metadata": {},
   "outputs": [],
   "source": [
    "# ipython extension to autoreload imported modules so that any changes will be up to date before running code in this nb\n",
    "%load_ext autoreload \n",
    "%autoreload 2"
   ]
  },
  {
   "cell_type": "code",
   "execution_count": 2,
   "metadata": {},
   "outputs": [
    {
     "name": "stderr",
     "output_type": "stream",
     "text": [
      "/Users/miamirabelli/Desktop/GNN Research/lorenzGNN/venv/lib/python3.11/site-packages/tqdm/auto.py:21: TqdmWarning: IProgress not found. Please update jupyter and ipywidgets. See https://ipywidgets.readthedocs.io/en/stable/user_install.html\n",
      "  from .autonotebook import tqdm as notebook_tqdm\n"
     ]
    }
   ],
   "source": [
    "from utils.jraph_training import train_and_evaluate_with_data, create_dataset\n",
    "# from utils.jraph_models import MLPGraphNetwork\n",
    "from utils.jraph_data import print_graph_fts\n",
    "from utils.jraph_vis import plot_predictions\n",
    "from utils.hyperparam_tuning import remove_bad_trials, get_best_trial_config, get_best_trial_workdir\n",
    "import ml_collections\n",
    "import optuna \n",
    "from flax import linen as nn\n",
    "from functools import partial\n",
    "from datetime import datetime\n",
    "import os "
   ]
  },
  {
   "cell_type": "code",
   "execution_count": 3,
   "metadata": {},
   "outputs": [],
   "source": [
    "# set up logging\n",
    "import logging\n",
    "logger = logging.getLogger()\n",
    "logger.setLevel(logging.WARNING)"
   ]
  },
  {
   "cell_type": "code",
   "execution_count": 4,
   "metadata": {},
   "outputs": [],
   "source": [
    "CHECKPOINT_PATH = \"/Users/miamirabelli/Desktop/GNN Research/lorenzGNN/experiments/tuning\""
   ]
  },
  {
   "cell_type": "code",
   "execution_count": 5,
   "metadata": {},
   "outputs": [],
   "source": [
    "def objective(trial, study_name, datasets):\n",
    "    \"\"\" Defines the objective function to be optimized over, aka the validation loss of a model.\n",
    "    \n",
    "        Args:\n",
    "            trial: object which characterizes the current run \n",
    "            datasets: dictionary of data. we explicitly pass this in so that we don't have to waste runtime regenerating the same dataset over and over. \n",
    "    \"\"\"\n",
    "    # create config \n",
    "    config = ml_collections.ConfigDict()\n",
    "\n",
    "    # Optimizer.\n",
    "    # config.optimizer = \"adam\"\n",
    "    config.optimizer = 'sgd'\n",
    "    config.learning_rate =  trial.suggest_float('learning_rate', 0.00045346796177033903, 0.00045346796177033903, \n",
    "                                               log=True) #0.00045346796177033903\n",
    "    config.momentum = trial.suggest_float('momentum', 0.8712873602503628, 0.8712873602503628) # 0.8712873602503628\n",
    "    # Data params that are used in training \n",
    "    config.output_steps = 6\n",
    "\n",
    "    # Training hyperparameters.\n",
    "    config.epochs = 50\n",
    "    config.log_every_epochs = 5\n",
    "    config.eval_every_epochs = 5\n",
    "    config.checkpoint_every_epochs = 10\n",
    "    config.max_checkpts_to_keep = 2\n",
    "\n",
    "    # GNN hyperparameters.\n",
    "    config.model = 'MLPBlock'\n",
    "    config.dropout_rate = 0.013287043114620523\n",
    "    config.skip_connections = False # This was throwing a broadcast error in add_graphs_tuples_nodes when this was set to True\n",
    "    config.layer_norm = False # TODO perhaps we want to turn on later\n",
    "    config.activation = 'relu'\n",
    "    config.n_blocks = trial.suggest_int('n_blocks', 1, 1)\n",
    "\n",
    "    \n",
    "    # choose the hidden layer feature size using powers of 2 \n",
    "    config.edge_features = (\n",
    "        2**trial.suggest_int(\"edge_mlp_1_power\", 1, 3), # range 2 - 8; upper bound is inclusive\n",
    "        2**trial.suggest_int(\"edge_mlp_2_power\", 1, 3), # range 2 - 8\n",
    "    )\n",
    "    config.node_features = (\n",
    "        2**trial.suggest_int(\"node_mlp_1_power\", 1, 8), # range 2 - 512\n",
    "        2**trial.suggest_int(\"node_mlp_2_power\", 1, 8), # range 2 - 512\n",
    "        2) \n",
    "    # note the last feature size will be the number of features that the graph predicts\n",
    "    config.global_features = None\n",
    "\n",
    "    # generate a workdir \n",
    "    # TODO: check if we actually care about referencing this in the future or if we can just create a temp dir \n",
    "    workdir=os.path.join(CHECKPOINT_PATH, study_name, f\"trial_{trial.number}\")\n",
    "\n",
    "    # run training \n",
    "    state, train_metrics, eval_metrics_dict, _ = train_and_evaluate_with_data(config=config, workdir=workdir, datasets=datasets, trial=trial)\n",
    "    \n",
    "    # retrieve and return val loss (MSE)\n",
    "    # print(\"eval_metrics_dict['val'].loss\", eval_metrics_dict['val'].loss)\n",
    "    # print(\"eval_metrics_dict['val'].compute()['loss']\", eval_metrics_dict['val'].compute()['loss'])\n",
    "    # print()\n",
    "    return eval_metrics_dict['val'].compute()['loss']"
   ]
  },
  {
   "cell_type": "code",
   "execution_count": 6,
   "metadata": {},
   "outputs": [],
   "source": [
    "def get_data_config(edge_connection=None):\n",
    "    config = ml_collections.ConfigDict()\n",
    "\n",
    "    config.n_samples=5000\n",
    "    config.input_steps=1\n",
    "    config.output_delay=0 # predict 24 hrs into the future \n",
    "    config.output_steps=6\n",
    "    config.timestep_duration=3 # equivalent to 3 hours\n",
    "    # note a 3 hour timestep resolution would be 5*24/3=40\n",
    "    # if the time_resolution is 120, then a sampling frequency of 3 would achieve a 3 hour timestep \n",
    "    config.sample_buffer = -1 * (config.input_steps + config.output_delay + config.output_steps - 1) # negative buffer so that our sample input are continuous (i.e. the first sample would overlap a bit with consecutive samples) \n",
    "        # number of timesteps strictly between the end \n",
    "        # of one full sample and the start of the next sample\n",
    "    config.time_resolution=120 # the number of \n",
    "                # raw data points generated per time unit, equivalent to the \n",
    "                # number of data points generated per 5 days in the simulation\n",
    "    config.init_buffer_samples=0\n",
    "    config.train_pct=0.7\n",
    "    config.val_pct=0.2\n",
    "    config.test_pct=0.1\n",
    "    config.K=36\n",
    "    config.F=8\n",
    "    config.c=10\n",
    "    config.b=10\n",
    "    config.h=1\n",
    "    config.seed=65\n",
    "    config.normalize=True\n",
    "    config.fully_connected_edges=edge_connection\n",
    "\n",
    "    return config"
   ]
  },
  {
   "cell_type": "code",
   "execution_count": 8,
   "metadata": {},
   "outputs": [],
   "source": [
    "def prepare_study(study_name, edge_connection=None):\n",
    "    # generate dataset \n",
    "    dataset_config = get_data_config(edge_connection=edge_connection)\n",
    "    datasets = create_dataset(dataset_config)\n",
    "    print_graph_fts(datasets['train']['inputs'][0][0])\n",
    "\n",
    "    # get the objective function that reuses the pre-generated datasets \n",
    "    objective_partial = partial(objective, study_name=study_name, \n",
    "                                datasets=datasets)\n",
    "\n",
    "    # run optimization study\n",
    "    db_path = os.path.join(CHECKPOINT_PATH, study_name, \"optuna_hparam_search.db\")\n",
    "    if not os.path.exists(os.path.join(CHECKPOINT_PATH, study_name)):\n",
    "        os.makedirs(os.path.join(CHECKPOINT_PATH, study_name))\n",
    "\n",
    "    study = optuna.create_study(\n",
    "        study_name=study_name,\n",
    "        storage=f'sqlite:///{db_path}', # generates a new db if it doesn't exist\n",
    "        direction='minimize',\n",
    "        pruner=optuna.pruners.MedianPruner(\n",
    "            n_startup_trials=5, \n",
    "            n_warmup_steps=50,\n",
    "            ), \n",
    "        load_if_exists=True, \n",
    "    )\n",
    "    \n",
    "    return study, objective_partial"
   ]
  },
  {
   "cell_type": "code",
   "execution_count": 9,
   "metadata": {},
   "outputs": [
    {
     "name": "stderr",
     "output_type": "stream",
     "text": [
      "[I 2025-02-06 16:20:37,519] A new study created in RDB with name: connected3_optimized\n"
     ]
    },
    {
     "name": "stdout",
     "output_type": "stream",
     "text": [
      "Number of nodes: 36\n",
      "Number of edges: 108\n",
      "Node features shape: (36, 2)\n",
      "Edge features shape: (108, 1)\n",
      "Global features shape: (1, 1)\n"
     ]
    }
   ],
   "source": [
    "# get study\n",
    "connected3, objective_partial3 = prepare_study(study_name=\"connected3_optimized\", edge_connection=3)"
   ]
  },
  {
   "cell_type": "code",
   "execution_count": 10,
   "metadata": {},
   "outputs": [
    {
     "name": "stderr",
     "output_type": "stream",
     "text": [
      "WARNING:absl:loss is nan for step 3 (in epoch 0)\n",
      "[I 2025-02-06 16:20:45,648] Trial 0 pruned. \n",
      "[I 2025-02-06 16:21:53,101] Trial 1 finished with value: 1.246018409729004 and parameters: {'learning_rate': 0.00045346796177033903, 'momentum': 0.8712873602503628, 'n_blocks': 1, 'edge_mlp_1_power': 2, 'edge_mlp_2_power': 1, 'node_mlp_1_power': 5, 'node_mlp_2_power': 6}. Best is trial 1 with value: 1.246018409729004.\n",
      "[I 2025-02-06 16:23:18,120] Trial 2 finished with value: 1.2149707078933716 and parameters: {'learning_rate': 0.00045346796177033903, 'momentum': 0.8712873602503628, 'n_blocks': 1, 'edge_mlp_1_power': 3, 'edge_mlp_2_power': 2, 'node_mlp_1_power': 4, 'node_mlp_2_power': 7}. Best is trial 2 with value: 1.2149707078933716.\n",
      "[I 2025-02-06 16:24:27,011] Trial 3 finished with value: 1.371066927909851 and parameters: {'learning_rate': 0.00045346796177033903, 'momentum': 0.8712873602503628, 'n_blocks': 1, 'edge_mlp_1_power': 1, 'edge_mlp_2_power': 2, 'node_mlp_1_power': 6, 'node_mlp_2_power': 5}. Best is trial 2 with value: 1.2149707078933716.\n",
      "[I 2025-02-06 16:25:21,122] Trial 4 finished with value: 1.2746407985687256 and parameters: {'learning_rate': 0.00045346796177033903, 'momentum': 0.8712873602503628, 'n_blocks': 1, 'edge_mlp_1_power': 2, 'edge_mlp_2_power': 2, 'node_mlp_1_power': 4, 'node_mlp_2_power': 2}. Best is trial 2 with value: 1.2149707078933716.\n",
      "[I 2025-02-06 16:26:16,472] Trial 5 finished with value: 1.5467861890792847 and parameters: {'learning_rate': 0.00045346796177033903, 'momentum': 0.8712873602503628, 'n_blocks': 1, 'edge_mlp_1_power': 2, 'edge_mlp_2_power': 3, 'node_mlp_1_power': 1, 'node_mlp_2_power': 4}. Best is trial 2 with value: 1.2149707078933716.\n",
      "[I 2025-02-06 16:27:17,361] Trial 6 finished with value: 1.2571113109588623 and parameters: {'learning_rate': 0.00045346796177033903, 'momentum': 0.8712873602503628, 'n_blocks': 1, 'edge_mlp_1_power': 3, 'edge_mlp_2_power': 1, 'node_mlp_1_power': 6, 'node_mlp_2_power': 2}. Best is trial 2 with value: 1.2149707078933716.\n",
      "[I 2025-02-06 16:28:20,591] Trial 7 finished with value: 1.2964293956756592 and parameters: {'learning_rate': 0.00045346796177033903, 'momentum': 0.8712873602503628, 'n_blocks': 1, 'edge_mlp_1_power': 2, 'edge_mlp_2_power': 3, 'node_mlp_1_power': 3, 'node_mlp_2_power': 6}. Best is trial 2 with value: 1.2149707078933716.\n",
      "[I 2025-02-06 16:29:19,906] Trial 8 finished with value: 1.3253499269485474 and parameters: {'learning_rate': 0.00045346796177033903, 'momentum': 0.8712873602503628, 'n_blocks': 1, 'edge_mlp_1_power': 1, 'edge_mlp_2_power': 3, 'node_mlp_1_power': 5, 'node_mlp_2_power': 3}. Best is trial 2 with value: 1.2149707078933716.\n",
      "[I 2025-02-06 16:30:17,364] Trial 9 finished with value: 1.323027491569519 and parameters: {'learning_rate': 0.00045346796177033903, 'momentum': 0.8712873602503628, 'n_blocks': 1, 'edge_mlp_1_power': 2, 'edge_mlp_2_power': 3, 'node_mlp_1_power': 4, 'node_mlp_2_power': 3}. Best is trial 2 with value: 1.2149707078933716.\n",
      "[I 2025-02-06 16:32:02,295] Trial 10 finished with value: 1.3934998512268066 and parameters: {'learning_rate': 0.00045346796177033903, 'momentum': 0.8712873602503628, 'n_blocks': 1, 'edge_mlp_1_power': 3, 'edge_mlp_2_power': 2, 'node_mlp_1_power': 2, 'node_mlp_2_power': 8}. Best is trial 2 with value: 1.2149707078933716.\n",
      "[I 2025-02-06 16:34:39,127] Trial 11 finished with value: 1.2322347164154053 and parameters: {'learning_rate': 0.00045346796177033903, 'momentum': 0.8712873602503628, 'n_blocks': 1, 'edge_mlp_1_power': 3, 'edge_mlp_2_power': 1, 'node_mlp_1_power': 8, 'node_mlp_2_power': 6}. Best is trial 2 with value: 1.2149707078933716.\n",
      "[I 2025-02-06 16:38:36,387] Trial 12 finished with value: 1.2127922773361206 and parameters: {'learning_rate': 0.00045346796177033903, 'momentum': 0.8712873602503628, 'n_blocks': 1, 'edge_mlp_1_power': 3, 'edge_mlp_2_power': 1, 'node_mlp_1_power': 8, 'node_mlp_2_power': 7}. Best is trial 12 with value: 1.2127922773361206.\n",
      "[I 2025-02-06 16:47:51,905] Trial 13 finished with value: 1.2127922773361206 and parameters: {'learning_rate': 0.00045346796177033903, 'momentum': 0.8712873602503628, 'n_blocks': 1, 'edge_mlp_1_power': 3, 'edge_mlp_2_power': 1, 'node_mlp_1_power': 8, 'node_mlp_2_power': 7}. Best is trial 12 with value: 1.2127922773361206.\n",
      "[I 2025-02-06 16:51:46,201] Trial 14 finished with value: 1.2127922773361206 and parameters: {'learning_rate': 0.00045346796177033903, 'momentum': 0.8712873602503628, 'n_blocks': 1, 'edge_mlp_1_power': 3, 'edge_mlp_2_power': 1, 'node_mlp_1_power': 8, 'node_mlp_2_power': 7}. Best is trial 12 with value: 1.2127922773361206.\n",
      "[I 2025-02-06 16:54:18,465] Trial 15 finished with value: 1.183138370513916 and parameters: {'learning_rate': 0.00045346796177033903, 'momentum': 0.8712873602503628, 'n_blocks': 1, 'edge_mlp_1_power': 3, 'edge_mlp_2_power': 1, 'node_mlp_1_power': 7, 'node_mlp_2_power': 7}. Best is trial 15 with value: 1.183138370513916.\n",
      "[I 2025-02-06 16:55:54,943] Trial 16 finished with value: 1.2143170833587646 and parameters: {'learning_rate': 0.00045346796177033903, 'momentum': 0.8712873602503628, 'n_blocks': 1, 'edge_mlp_1_power': 3, 'edge_mlp_2_power': 1, 'node_mlp_1_power': 7, 'node_mlp_2_power': 5}. Best is trial 15 with value: 1.183138370513916.\n",
      "[I 2025-02-06 16:59:50,128] Trial 17 finished with value: 1.1952542066574097 and parameters: {'learning_rate': 0.00045346796177033903, 'momentum': 0.8712873602503628, 'n_blocks': 1, 'edge_mlp_1_power': 3, 'edge_mlp_2_power': 1, 'node_mlp_1_power': 7, 'node_mlp_2_power': 8}. Best is trial 15 with value: 1.183138370513916.\n",
      "[I 2025-02-06 17:02:36,309] Trial 18 finished with value: 1.1772054433822632 and parameters: {'learning_rate': 0.00045346796177033903, 'momentum': 0.8712873602503628, 'n_blocks': 1, 'edge_mlp_1_power': 3, 'edge_mlp_2_power': 2, 'node_mlp_1_power': 6, 'node_mlp_2_power': 8}. Best is trial 18 with value: 1.1772054433822632.\n",
      "[I 2025-02-06 17:05:21,124] Trial 19 finished with value: 1.1676759719848633 and parameters: {'learning_rate': 0.00045346796177033903, 'momentum': 0.8712873602503628, 'n_blocks': 1, 'edge_mlp_1_power': 2, 'edge_mlp_2_power': 2, 'node_mlp_1_power': 6, 'node_mlp_2_power': 8}. Best is trial 19 with value: 1.1676759719848633.\n"
     ]
    }
   ],
   "source": [
    "connected3.optimize(objective_partial3, \n",
    "                n_trials=20-len(connected3.trials), \n",
    "                n_jobs=1)"
   ]
  },
  {
   "cell_type": "code",
   "execution_count": 12,
   "metadata": {},
   "outputs": [
    {
     "name": "stdout",
     "output_type": "stream",
     "text": [
      "edge features: (4, 4)\n",
      "node features: (64, 2)\n"
     ]
    }
   ],
   "source": [
    "current = get_best_trial_config(study=connected3)\n",
    "print(f\"edge features:\", current.edge_features)\n",
    "print(f\"node features:\", current.node_features)"
   ]
  },
  {
   "cell_type": "markdown",
   "metadata": {},
   "source": [
    "## 7 Edge Config"
   ]
  },
  {
   "cell_type": "code",
   "execution_count": 13,
   "metadata": {},
   "outputs": [
    {
     "name": "stderr",
     "output_type": "stream",
     "text": [
      "[I 2025-02-11 14:52:23,807] A new study created in RDB with name: connected7_optimized\n"
     ]
    },
    {
     "name": "stdout",
     "output_type": "stream",
     "text": [
      "Number of nodes: 36\n",
      "Number of edges: 252\n",
      "Node features shape: (36, 2)\n",
      "Edge features shape: (252, 1)\n",
      "Global features shape: (1, 1)\n"
     ]
    }
   ],
   "source": [
    "# get study\n",
    "connected7, objective_partial7 = prepare_study(study_name=\"connected7_optimized\", edge_connection=7)"
   ]
  },
  {
   "cell_type": "code",
   "execution_count": 14,
   "metadata": {},
   "outputs": [
    {
     "name": "stderr",
     "output_type": "stream",
     "text": [
      "[I 2025-02-11 14:53:48,511] Trial 0 finished with value: 1.6976850032806396 and parameters: {'learning_rate': 0.00045346796177033903, 'momentum': 0.8712873602503628, 'n_blocks': 1, 'edge_mlp_1_power': 3, 'edge_mlp_2_power': 3, 'node_mlp_1_power': 1, 'node_mlp_2_power': 1}. Best is trial 0 with value: 1.6976850032806396.\n",
      "[I 2025-02-11 14:55:16,488] Trial 1 finished with value: 3.0314218997955322 and parameters: {'learning_rate': 0.00045346796177033903, 'momentum': 0.8712873602503628, 'n_blocks': 1, 'edge_mlp_1_power': 2, 'edge_mlp_2_power': 3, 'node_mlp_1_power': 6, 'node_mlp_2_power': 1}. Best is trial 0 with value: 1.6976850032806396.\n",
      "[I 2025-02-11 14:57:44,473] Trial 2 finished with value: 3.0314218997955322 and parameters: {'learning_rate': 0.00045346796177033903, 'momentum': 0.8712873602503628, 'n_blocks': 1, 'edge_mlp_1_power': 2, 'edge_mlp_2_power': 3, 'node_mlp_1_power': 8, 'node_mlp_2_power': 1}. Best is trial 0 with value: 1.6976850032806396.\n",
      "WARNING:absl:loss is nan for step 5 (in epoch 0)\n",
      "[I 2025-02-11 14:57:47,807] Trial 3 pruned. \n",
      "WARNING:absl:loss is nan for step 2 (in epoch 0)\n",
      "[I 2025-02-11 14:57:51,227] Trial 4 pruned. \n",
      "[I 2025-02-11 14:58:51,501] Trial 5 finished with value: 1.5231577157974243 and parameters: {'learning_rate': 0.00045346796177033903, 'momentum': 0.8712873602503628, 'n_blocks': 1, 'edge_mlp_1_power': 2, 'edge_mlp_2_power': 2, 'node_mlp_1_power': 2, 'node_mlp_2_power': 1}. Best is trial 5 with value: 1.5231577157974243.\n",
      "[I 2025-02-11 15:00:20,139] Trial 6 finished with value: 1.462814211845398 and parameters: {'learning_rate': 0.00045346796177033903, 'momentum': 0.8712873602503628, 'n_blocks': 1, 'edge_mlp_1_power': 3, 'edge_mlp_2_power': 3, 'node_mlp_1_power': 2, 'node_mlp_2_power': 6}. Best is trial 6 with value: 1.462814211845398.\n",
      "[I 2025-02-11 15:01:25,655] Trial 7 finished with value: 1.3941152095794678 and parameters: {'learning_rate': 0.00045346796177033903, 'momentum': 0.8712873602503628, 'n_blocks': 1, 'edge_mlp_1_power': 2, 'edge_mlp_2_power': 1, 'node_mlp_1_power': 4, 'node_mlp_2_power': 5}. Best is trial 7 with value: 1.3941152095794678.\n",
      "WARNING:absl:loss is nan for step 1 (in epoch 0)\n",
      "[I 2025-02-11 15:01:29,910] Trial 8 pruned. \n",
      "WARNING:absl:loss is nan for step 2 (in epoch 0)\n",
      "[I 2025-02-11 15:01:33,254] Trial 9 pruned. \n",
      "[I 2025-02-11 15:02:37,344] Trial 10 finished with value: 1.460468053817749 and parameters: {'learning_rate': 0.00045346796177033903, 'momentum': 0.8712873602503628, 'n_blocks': 1, 'edge_mlp_1_power': 1, 'edge_mlp_2_power': 1, 'node_mlp_1_power': 4, 'node_mlp_2_power': 3}. Best is trial 7 with value: 1.3941152095794678.\n",
      "[I 2025-02-11 15:03:38,924] Trial 11 finished with value: 1.460468053817749 and parameters: {'learning_rate': 0.00045346796177033903, 'momentum': 0.8712873602503628, 'n_blocks': 1, 'edge_mlp_1_power': 1, 'edge_mlp_2_power': 1, 'node_mlp_1_power': 4, 'node_mlp_2_power': 3}. Best is trial 7 with value: 1.3941152095794678.\n",
      "[I 2025-02-11 15:04:41,365] Trial 12 finished with value: 1.460468053817749 and parameters: {'learning_rate': 0.00045346796177033903, 'momentum': 0.8712873602503628, 'n_blocks': 1, 'edge_mlp_1_power': 1, 'edge_mlp_2_power': 1, 'node_mlp_1_power': 4, 'node_mlp_2_power': 3}. Best is trial 7 with value: 1.3941152095794678.\n",
      "[I 2025-02-11 15:05:41,814] Trial 13 finished with value: 1.4599003791809082 and parameters: {'learning_rate': 0.00045346796177033903, 'momentum': 0.8712873602503628, 'n_blocks': 1, 'edge_mlp_1_power': 2, 'edge_mlp_2_power': 1, 'node_mlp_1_power': 3, 'node_mlp_2_power': 3}. Best is trial 7 with value: 1.3941152095794678.\n",
      "[I 2025-02-11 15:07:35,535] Trial 14 finished with value: 1.404189944267273 and parameters: {'learning_rate': 0.00045346796177033903, 'momentum': 0.8712873602503628, 'n_blocks': 1, 'edge_mlp_1_power': 2, 'edge_mlp_2_power': 1, 'node_mlp_1_power': 3, 'node_mlp_2_power': 8}. Best is trial 7 with value: 1.3941152095794678.\n"
     ]
    }
   ],
   "source": [
    "connected7.optimize(objective_partial7, \n",
    "                n_trials=15-len(connected7.trials), \n",
    "                n_jobs=1)"
   ]
  },
  {
   "cell_type": "code",
   "execution_count": 15,
   "metadata": {},
   "outputs": [
    {
     "name": "stdout",
     "output_type": "stream",
     "text": [
      "edge features: (4, 2)\n",
      "node features: (16, 2)\n"
     ]
    }
   ],
   "source": [
    "current = get_best_trial_config(study=connected7)\n",
    "print(f\"edge features:\", current.edge_features)\n",
    "print(f\"node features:\", current.node_features)"
   ]
  },
  {
   "cell_type": "markdown",
   "metadata": {},
   "source": [
    "## Solo Edge Config"
   ]
  },
  {
   "cell_type": "code",
   "execution_count": 16,
   "metadata": {},
   "outputs": [
    {
     "name": "stderr",
     "output_type": "stream",
     "text": [
      "[I 2025-02-11 15:15:05,525] A new study created in RDB with name: connected1_optimized\n"
     ]
    },
    {
     "name": "stdout",
     "output_type": "stream",
     "text": [
      "Number of nodes: 36\n",
      "Number of edges: 36\n",
      "Node features shape: (36, 2)\n",
      "Edge features shape: (36, 1)\n",
      "Global features shape: (1, 1)\n"
     ]
    }
   ],
   "source": [
    "connected1, objective_partial1 = prepare_study(study_name=\"connected1_optimized\", edge_connection=1)"
   ]
  },
  {
   "cell_type": "code",
   "execution_count": 17,
   "metadata": {},
   "outputs": [
    {
     "name": "stderr",
     "output_type": "stream",
     "text": [
      "[I 2025-02-11 15:16:00,425] Trial 0 finished with value: 1.603869915008545 and parameters: {'learning_rate': 0.00045346796177033903, 'momentum': 0.8712873602503628, 'n_blocks': 1, 'edge_mlp_1_power': 1, 'edge_mlp_2_power': 2, 'node_mlp_1_power': 5, 'node_mlp_2_power': 3}. Best is trial 0 with value: 1.603869915008545.\n",
      "[I 2025-02-11 15:17:44,197] Trial 1 finished with value: 1.5971708297729492 and parameters: {'learning_rate': 0.00045346796177033903, 'momentum': 0.8712873602503628, 'n_blocks': 1, 'edge_mlp_1_power': 1, 'edge_mlp_2_power': 2, 'node_mlp_1_power': 3, 'node_mlp_2_power': 8}. Best is trial 1 with value: 1.5971708297729492.\n",
      "[I 2025-02-11 15:18:36,540] Trial 2 finished with value: 1.6543980836868286 and parameters: {'learning_rate': 0.00045346796177033903, 'momentum': 0.8712873602503628, 'n_blocks': 1, 'edge_mlp_1_power': 2, 'edge_mlp_2_power': 1, 'node_mlp_1_power': 1, 'node_mlp_2_power': 1}. Best is trial 1 with value: 1.5971708297729492.\n",
      "[I 2025-02-11 15:19:38,249] Trial 3 finished with value: 1.6395502090454102 and parameters: {'learning_rate': 0.00045346796177033903, 'momentum': 0.8712873602503628, 'n_blocks': 1, 'edge_mlp_1_power': 3, 'edge_mlp_2_power': 3, 'node_mlp_1_power': 1, 'node_mlp_2_power': 6}. Best is trial 1 with value: 1.5971708297729492.\n",
      "[I 2025-02-11 15:22:14,816] Trial 4 finished with value: 1.596418857574463 and parameters: {'learning_rate': 0.00045346796177033903, 'momentum': 0.8712873602503628, 'n_blocks': 1, 'edge_mlp_1_power': 3, 'edge_mlp_2_power': 2, 'node_mlp_1_power': 8, 'node_mlp_2_power': 6}. Best is trial 4 with value: 1.596418857574463.\n",
      "[I 2025-02-11 15:23:16,719] Trial 5 finished with value: 1.8125211000442505 and parameters: {'learning_rate': 0.00045346796177033903, 'momentum': 0.8712873602503628, 'n_blocks': 1, 'edge_mlp_1_power': 2, 'edge_mlp_2_power': 3, 'node_mlp_1_power': 1, 'node_mlp_2_power': 6}. Best is trial 4 with value: 1.596418857574463.\n",
      "[I 2025-02-11 15:24:14,939] Trial 6 finished with value: 1.5974425077438354 and parameters: {'learning_rate': 0.00045346796177033903, 'momentum': 0.8712873602503628, 'n_blocks': 1, 'edge_mlp_1_power': 1, 'edge_mlp_2_power': 2, 'node_mlp_1_power': 5, 'node_mlp_2_power': 4}. Best is trial 4 with value: 1.596418857574463.\n",
      "[I 2025-02-11 15:26:08,056] Trial 7 finished with value: 1.5892748832702637 and parameters: {'learning_rate': 0.00045346796177033903, 'momentum': 0.8712873602503628, 'n_blocks': 1, 'edge_mlp_1_power': 3, 'edge_mlp_2_power': 1, 'node_mlp_1_power': 4, 'node_mlp_2_power': 8}. Best is trial 7 with value: 1.5892748832702637.\n",
      "[I 2025-02-11 15:31:43,660] Trial 8 finished with value: 1.5985686779022217 and parameters: {'learning_rate': 0.00045346796177033903, 'momentum': 0.8712873602503628, 'n_blocks': 1, 'edge_mlp_1_power': 2, 'edge_mlp_2_power': 2, 'node_mlp_1_power': 8, 'node_mlp_2_power': 8}. Best is trial 7 with value: 1.5892748832702637.\n",
      "[I 2025-02-11 15:32:44,666] Trial 9 finished with value: 1.6431114673614502 and parameters: {'learning_rate': 0.00045346796177033903, 'momentum': 0.8712873602503628, 'n_blocks': 1, 'edge_mlp_1_power': 2, 'edge_mlp_2_power': 2, 'node_mlp_1_power': 1, 'node_mlp_2_power': 6}. Best is trial 7 with value: 1.5892748832702637.\n",
      "[I 2025-02-11 15:33:39,664] Trial 10 finished with value: 1.8760921955108643 and parameters: {'learning_rate': 0.00045346796177033903, 'momentum': 0.8712873602503628, 'n_blocks': 1, 'edge_mlp_1_power': 3, 'edge_mlp_2_power': 1, 'node_mlp_1_power': 3, 'node_mlp_2_power': 1}. Best is trial 7 with value: 1.5892748832702637.\n",
      "[I 2025-02-11 15:37:42,634] Trial 11 finished with value: 1.6009384393692017 and parameters: {'learning_rate': 0.00045346796177033903, 'momentum': 0.8712873602503628, 'n_blocks': 1, 'edge_mlp_1_power': 3, 'edge_mlp_2_power': 1, 'node_mlp_1_power': 8, 'node_mlp_2_power': 7}. Best is trial 7 with value: 1.5892748832702637.\n",
      "[I 2025-02-11 15:38:48,104] Trial 12 finished with value: 1.5926471948623657 and parameters: {'learning_rate': 0.00045346796177033903, 'momentum': 0.8712873602503628, 'n_blocks': 1, 'edge_mlp_1_power': 3, 'edge_mlp_2_power': 1, 'node_mlp_1_power': 6, 'node_mlp_2_power': 5}. Best is trial 7 with value: 1.5892748832702637.\n",
      "[I 2025-02-11 15:39:50,578] Trial 13 finished with value: 1.593925952911377 and parameters: {'learning_rate': 0.00045346796177033903, 'momentum': 0.8712873602503628, 'n_blocks': 1, 'edge_mlp_1_power': 3, 'edge_mlp_2_power': 1, 'node_mlp_1_power': 6, 'node_mlp_2_power': 4}. Best is trial 7 with value: 1.5892748832702637.\n",
      "[I 2025-02-11 15:40:51,772] Trial 14 finished with value: 1.6289891004562378 and parameters: {'learning_rate': 0.00045346796177033903, 'momentum': 0.8712873602503628, 'n_blocks': 1, 'edge_mlp_1_power': 3, 'edge_mlp_2_power': 1, 'node_mlp_1_power': 6, 'node_mlp_2_power': 3}. Best is trial 7 with value: 1.5892748832702637.\n"
     ]
    }
   ],
   "source": [
    "connected1.optimize(objective_partial1, \n",
    "                n_trials=15-len(connected1.trials), \n",
    "                n_jobs=1)"
   ]
  },
  {
   "cell_type": "code",
   "execution_count": 18,
   "metadata": {},
   "outputs": [
    {
     "name": "stdout",
     "output_type": "stream",
     "text": [
      "edge features: (8, 2)\n",
      "node features: (16, 2)\n"
     ]
    }
   ],
   "source": [
    "current = get_best_trial_config(study=connected1)\n",
    "print(f\"edge features:\", current.edge_features)\n",
    "print(f\"node features:\", current.node_features)"
   ]
  }
 ],
 "metadata": {
  "kernelspec": {
   "display_name": "venv",
   "language": "python",
   "name": "python3"
  },
  "language_info": {
   "codemirror_mode": {
    "name": "ipython",
    "version": 3
   },
   "file_extension": ".py",
   "mimetype": "text/x-python",
   "name": "python",
   "nbconvert_exporter": "python",
   "pygments_lexer": "ipython3",
   "version": "3.11.8"
  }
 },
 "nbformat": 4,
 "nbformat_minor": 2
}
