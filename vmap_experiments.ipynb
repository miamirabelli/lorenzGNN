{
 "cells": [
  {
   "cell_type": "markdown",
   "metadata": {},
   "source": [
    "stack version of batching"
   ]
  },
  {
   "cell_type": "code",
   "execution_count": 36,
   "metadata": {},
   "outputs": [],
   "source": [
    "import jraph\n",
    "import jax\n",
    "import jax.numpy as jnp\n",
    "\n",
    "# Create consistent GraphsTuples\n",
    "def create_graph(nodes, edges, receivers, senders, globals):\n",
    "    return jraph.GraphsTuple(\n",
    "        nodes=jnp.array(nodes),\n",
    "        edges=jnp.array(edges),\n",
    "        receivers=jnp.array(receivers),\n",
    "        senders=jnp.array(senders),\n",
    "        n_node=jnp.array([len(nodes)]),\n",
    "        n_edge=jnp.array([len(edges)]),\n",
    "        globals=jnp.array(globals)\n",
    "    )\n",
    "\n",
    "GraphTuple1 = create_graph(\n",
    "    nodes=[[1.0, 2.0]],\n",
    "    edges=[[1.0], [2.0]],\n",
    "    receivers=[0, 1],\n",
    "    senders=[1, 0],\n",
    "    globals=[1.0]\n",
    ")\n",
    "\n",
    "GraphTuple2 = create_graph(\n",
    "    nodes=[[3.0, 4.0]],\n",
    "    edges=[[3.0], [4.0]],\n",
    "    receivers=[0, 1],\n",
    "    senders=[1, 0],\n",
    "    globals=[2.0]\n",
    ")\n",
    "\n",
    "GraphTuple3 = create_graph(\n",
    "    nodes=[[5.0, 6.0]],\n",
    "    edges=[[5.0], [6.0]],\n",
    "    receivers=[0, 1],\n",
    "    senders=[1, 0],\n",
    "    globals=[3.0]\n",
    ")\n",
    "\n",
    "GraphTuple4 = create_graph(\n",
    "    nodes=[[7.0, 8.0]],\n",
    "    edges=[[7.0], [8.0]],\n",
    "    receivers=[0, 1],\n",
    "    senders=[1, 0],\n",
    "    globals=[4.0]\n",
    ")\n",
    "\n"
   ]
  },
  {
   "cell_type": "code",
   "execution_count": 37,
   "metadata": {},
   "outputs": [],
   "source": [
    "# Create a window containing two GraphsTuples\n",
    "window1 = [GraphTuple1, GraphTuple2]\n",
    "\n",
    "window2 = [GraphTuple3, GraphTuple4]\n",
    "\n",
    "# Batch the window\n",
    "batched_window1 = jraph.batch(window1)\n",
    "batched_window2 = jraph.batch(window2)\n"
   ]
  },
  {
   "cell_type": "code",
   "execution_count": 38,
   "metadata": {},
   "outputs": [],
   "source": [
    "# now, batch the two windows together\n",
    "window_list = [batched_window1, batched_window2]\n",
    "batched_graph = jraph.batch(window_list)"
   ]
  },
  {
   "cell_type": "code",
   "execution_count": 41,
   "metadata": {},
   "outputs": [],
   "source": [
    "def model(graph: jraph.GraphsTuple) -> jraph.GraphsTuple:\n",
    "    # Example operation: multiply node features by 2\n",
    "    updated_nodes = graph.nodes + 10\n",
    "    return graph._replace(nodes=updated_nodes)"
   ]
  },
  {
   "cell_type": "code",
   "execution_count": 43,
   "metadata": {},
   "outputs": [
    {
     "name": "stdout",
     "output_type": "stream",
     "text": [
      "GraphsTuple(nodes=Array([[[1., 2.],\n",
      "        [3., 4.],\n",
      "        [5., 6.],\n",
      "        [7., 8.]],\n",
      "\n",
      "       [[1., 2.],\n",
      "        [3., 4.],\n",
      "        [5., 6.],\n",
      "        [7., 8.]]], dtype=float32), edges=Array([[[1.],\n",
      "        [2.],\n",
      "        [3.],\n",
      "        [4.],\n",
      "        [5.],\n",
      "        [6.],\n",
      "        [7.],\n",
      "        [8.]],\n",
      "\n",
      "       [[1.],\n",
      "        [2.],\n",
      "        [3.],\n",
      "        [4.],\n",
      "        [5.],\n",
      "        [6.],\n",
      "        [7.],\n",
      "        [8.]]], dtype=float32), receivers=Array([[0, 1, 1, 2, 2, 3, 3, 4],\n",
      "       [0, 1, 1, 2, 2, 3, 3, 4]], dtype=int32), senders=Array([[1, 0, 2, 1, 3, 2, 4, 3],\n",
      "       [1, 0, 2, 1, 3, 2, 4, 3]], dtype=int32), globals=Array([[1., 2., 3., 4.],\n",
      "       [1., 2., 3., 4.]], dtype=float32), n_node=Array([[1, 1, 1, 1],\n",
      "       [1, 1, 1, 1]], dtype=int32), n_edge=Array([[2, 2, 2, 2],\n",
      "       [2, 2, 2, 2]], dtype=int32))\n",
      "GraphsTuple(nodes=Array([[[11., 12.],\n",
      "        [13., 14.],\n",
      "        [15., 16.],\n",
      "        [17., 18.]],\n",
      "\n",
      "       [[11., 12.],\n",
      "        [13., 14.],\n",
      "        [15., 16.],\n",
      "        [17., 18.]]], dtype=float32), edges=Array([[[1.],\n",
      "        [2.],\n",
      "        [3.],\n",
      "        [4.],\n",
      "        [5.],\n",
      "        [6.],\n",
      "        [7.],\n",
      "        [8.]],\n",
      "\n",
      "       [[1.],\n",
      "        [2.],\n",
      "        [3.],\n",
      "        [4.],\n",
      "        [5.],\n",
      "        [6.],\n",
      "        [7.],\n",
      "        [8.]]], dtype=float32), receivers=Array([[0, 1, 1, 2, 2, 3, 3, 4],\n",
      "       [0, 1, 1, 2, 2, 3, 3, 4]], dtype=int32), senders=Array([[1, 0, 2, 1, 3, 2, 4, 3],\n",
      "       [1, 0, 2, 1, 3, 2, 4, 3]], dtype=int32), globals=Array([[1., 2., 3., 4.],\n",
      "       [1., 2., 3., 4.]], dtype=float32), n_node=Array([[1, 1, 1, 1],\n",
      "       [1, 1, 1, 1]], dtype=int32), n_edge=Array([[2, 2, 2, 2],\n",
      "       [2, 2, 2, 2]], dtype=int32))\n"
     ]
    }
   ],
   "source": [
    "# Create a list of batched graphs (assuming multiple batches)\n",
    "batched_graphs_list = [batched_graph, batched_graph]  # Just repeating the same for demonstration\n",
    "\n",
    "# Define a batched version of the model function\n",
    "vectorized_model = jax.vmap(model)\n",
    "\n",
    "# Since `vmap` expects batched input, stack the batched graphs\n",
    "stacked_batched_graphs = jax.tree_map(lambda *args: jnp.stack(args), *batched_graphs_list)\n",
    "\n",
    "# Apply the vectorized model to the stacked batched graphs\n",
    "output_graphs = vectorized_model(stacked_batched_graphs)\n",
    "\n",
    "print(stacked_batched_graphs)\n",
    "print(output_graphs)"
   ]
  }
 ],
 "metadata": {
  "kernelspec": {
   "display_name": "venv",
   "language": "python",
   "name": "python3"
  },
  "language_info": {
   "codemirror_mode": {
    "name": "ipython",
    "version": 3
   },
   "file_extension": ".py",
   "mimetype": "text/x-python",
   "name": "python",
   "nbconvert_exporter": "python",
   "pygments_lexer": "ipython3",
   "version": "3.11.8"
  }
 },
 "nbformat": 4,
 "nbformat_minor": 2
}
