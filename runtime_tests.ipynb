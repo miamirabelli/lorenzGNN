{
 "cells": [
  {
   "cell_type": "code",
   "execution_count": 1,
   "metadata": {},
   "outputs": [],
   "source": [
    "# ipython extension to autoreload imported modules so that any changes will be up to date before running code in this nb\n",
    "%load_ext autoreload \n",
    "%autoreload 2"
   ]
  },
  {
   "cell_type": "code",
   "execution_count": 2,
   "metadata": {},
   "outputs": [],
   "source": [
    "from utils.jraph_data import get_lorenz_graph_tuples, print_graph_fts\n",
    "from utils.lorenz import load_lorenz96_2coupled\n",
    "\n",
    "import numpy as np\n",
    "import jax.numpy as jnp"
   ]
  },
  {
   "cell_type": "code",
   "execution_count": 3,
   "metadata": {},
   "outputs": [],
   "source": [
    "import ml_collections\n",
    "\n",
    "config = ml_collections.ConfigDict()\n",
    "\n",
    "# Data params. \n",
    "config.n_samples=5000\n",
    "config.input_steps=1\n",
    "config.output_delay=0 # predict 0 hours into the future\n",
    "config.output_steps=4\n",
    "config.timestep_duration= 3\n",
    "config.sample_buffer=-1 * (config.input_steps + config.output_delay + config.output_steps - 1) # negative buffer so that our sample input are continuous (i.e. the first sample would overlap a bit with consecutive samples) \n",
    "config.time_resolution=120\n",
    "config.init_buffer_samples=0\n",
    "config.train_pct=0.7\n",
    "config.val_pct=0.2\n",
    "config.test_pct=0.1\n",
    "config.K=36\n",
    "config.F=8\n",
    "config.c=10\n",
    "config.b=10\n",
    "config.h=1\n",
    "config.seed=42\n",
    "config.normalize=True\n",
    "config.fully_connected_edges=False\n",
    "\n",
    "# Optimizer.\n",
    "config.optimizer = 'sgd'\n",
    "config.learning_rate = 0.00045346796177033903\n",
    "config.momentum = 0.8712873602503628\n",
    "\n",
    "# Training hyperparameters.\n",
    "# config.batch_size = 3\n",
    "config.epochs = 150\n",
    "config.log_every_epochs = 5\n",
    "config.eval_every_epochs = 5\n",
    "config.checkpoint_every_epochs = 10\n",
    "config.max_checkpts_to_keep = None # None means keep all checkpoints\n",
    "\n",
    "# GNN hyperparameters.\n",
    "config.model = 'MLPGraphNetwork'\n",
    "config.n_blocks = 1\n",
    "config.activation = 'relu'\n",
    "config.dropout_rate = 0.013287043114620523\n",
    "config.skip_connections = False # This was throwing a broadcast error in add_graphs_tuples_nodes when this was set to True\n",
    "config.layer_norm = False # TODO perhaps we want to turn on later\n",
    "config.edge_features = (8, 8) # the last feature size will be the number of features that the graph predicts\n",
    "config.node_features = (32, 2)\n",
    "config.global_features = None\n",
    "config.share_params = False"
   ]
  },
  {
   "cell_type": "code",
   "execution_count": 4,
   "metadata": {},
   "outputs": [
    {
     "name": "stderr",
     "output_type": "stream",
     "text": [
      "/Users/miamirabelli/Desktop/GNN Research/lorenzGNN/venv/lib/python3.11/site-packages/tqdm/auto.py:21: TqdmWarning: IProgress not found. Please update jupyter and ipywidgets. See https://ipywidgets.readthedocs.io/en/stable/user_install.html\n",
      "  from .autonotebook import tqdm as notebook_tqdm\n"
     ]
    }
   ],
   "source": [
    "from utils.jraph_training import train_and_evaluate\n",
    "from utils.jraph_vis import plot_predictions"
   ]
  },
  {
   "cell_type": "code",
   "execution_count": 38,
   "metadata": {},
   "outputs": [],
   "source": [
    "# set up logging\n",
    "import logging\n",
    "logger = logging.getLogger()\n",
    "logger.setLevel(logging.INFO)"
   ]
  },
  {
   "cell_type": "code",
   "execution_count": 42,
   "metadata": {},
   "outputs": [
    {
     "name": "stderr",
     "output_type": "stream",
     "text": [
      "INFO:absl:Obtaining datasets.\n"
     ]
    },
    {
     "name": "stderr",
     "output_type": "stream",
     "text": [
      "INFO:absl:Hyperparameters: {'F': 8, 'K': 36, 'activation': 'relu', 'b': 10, 'c': 10, 'checkpoint_every_epochs': 10, 'dropout_rate': 0.013287043114620523, 'edge_features': (8, 8), 'epochs': 150, 'eval_every_epochs': 5, 'fully_connected_edges': False, 'global_features': None, 'h': 1, 'init_buffer_samples': 0, 'input_steps': 1, 'layer_norm': False, 'learning_rate': 0.00045346796177033903, 'log_every_epochs': 5, 'max_checkpts_to_keep': None, 'model': 'MLPGraphNetwork', 'momentum': 0.8712873602503628, 'n_blocks': 1, 'n_samples': 5000, 'node_features': (32, 2), 'normalize': True, 'optimizer': 'sgd', 'output_delay': 0, 'output_steps': 4, 'sample_buffer': -4, 'seed': 42, 'share_params': False, 'skip_connections': False, 'test_pct': 0.1, 'time_resolution': 120, 'timestep_duration': 3, 'train_pct': 0.7, 'val_pct': 0.2}\n",
      "INFO:absl:Initializing network.\n",
      "INFO:absl:\n",
      "+----------------------------------------+----------+------+----------+-------+\n",
      "| Name                                   | Shape    | Size | Mean     | Std   |\n",
      "+----------------------------------------+----------+------+----------+-------+\n",
      "| params/MLPBlock_0/MLP_0/Dense_0/bias   | (8,)     | 8    | 0.0      | 0.0   |\n",
      "| params/MLPBlock_0/MLP_0/Dense_0/kernel | (6, 8)   | 48   | -0.103   | 0.37  |\n",
      "| params/MLPBlock_0/MLP_0/Dense_1/bias   | (8,)     | 8    | 0.0      | 0.0   |\n",
      "| params/MLPBlock_0/MLP_0/Dense_1/kernel | (8, 8)   | 64   | -0.0189  | 0.344 |\n",
      "| params/MLPBlock_0/MLP_1/Dense_0/bias   | (32,)    | 32   | 0.0      | 0.0   |\n",
      "| params/MLPBlock_0/MLP_1/Dense_0/kernel | (19, 32) | 608  | -0.00843 | 0.219 |\n",
      "| params/MLPBlock_0/MLP_1/Dense_1/bias   | (2,)     | 2    | 0.0      | 0.0   |\n",
      "| params/MLPBlock_0/MLP_1/Dense_1/kernel | (32, 2)  | 64   | -0.00627 | 0.195 |\n",
      "+----------------------------------------+----------+------+----------+-------+\n",
      "Total: 834\n",
      "INFO:absl:Checkpoint.restore_or_initialize() ...\n",
      "INFO:absl:No checkpoint specified. Restore the latest checkpoint.\n",
      "INFO:absl:Restoring checkpoint: tests/outputs/runtime_test3/checkpoints/ckpt-17\n",
      "INFO:absl:Restored save_counter=17 restored_checkpoint=tests/outputs/runtime_test3/checkpoints/ckpt-17\n",
      "INFO:absl:Checkpoint.restore_or_initialize() finished after 0.01s.\n",
      "INFO:absl:Starting training.\n"
     ]
    }
   ],
   "source": [
    "workdir=\"tests/outputs/runtime_test3\"\n",
    "\n",
    "trained_state, train_metrics, eval_metrics_dict = train_and_evaluate(\n",
    "    config=config, workdir=workdir)\n"
   ]
  },
  {
   "cell_type": "markdown",
   "metadata": {},
   "source": [
    "2 checkpoints logged runtime: 2m 27s\n",
    "all checkpoints logged runtime: 2m 25s\n",
    "\n",
    "no difference between logging every checkpoint/only logging the last 2. gpu issues probably stem from somewhere else"
   ]
  },
  {
   "cell_type": "code",
   "execution_count": 41,
   "metadata": {},
   "outputs": [
    {
     "name": "stderr",
     "output_type": "stream",
     "text": [
      "INFO:root:Generating datasets from config because none provided.\n"
     ]
    },
    {
     "name": "stdout",
     "output_type": "stream",
     "text": [
      "Checkpoint directory: tests/outputs/runtime_test3/checkpoints\n"
     ]
    },
    {
     "ename": "KeyboardInterrupt",
     "evalue": "",
     "output_type": "error",
     "traceback": [
      "\u001b[0;31m---------------------------------------------------------------------------\u001b[0m",
      "\u001b[0;31mKeyboardInterrupt\u001b[0m                         Traceback (most recent call last)",
      "\u001b[1;32m/Users/miamirabelli/Desktop/GNN Research/lorenzGNN/runtime_tests.ipynb Cell 8\u001b[0m line \u001b[0;36m1\n\u001b[0;32m----> <a href='vscode-notebook-cell:/Users/miamirabelli/Desktop/GNN%20Research/lorenzGNN/runtime_tests.ipynb#X16sZmlsZQ%3D%3D?line=0'>1</a>\u001b[0m plot_predictions(\n\u001b[1;32m      <a href='vscode-notebook-cell:/Users/miamirabelli/Desktop/GNN%20Research/lorenzGNN/runtime_tests.ipynb#X16sZmlsZQ%3D%3D?line=1'>2</a>\u001b[0m     config\u001b[39m=\u001b[39;49mconfig,\n\u001b[1;32m      <a href='vscode-notebook-cell:/Users/miamirabelli/Desktop/GNN%20Research/lorenzGNN/runtime_tests.ipynb#X16sZmlsZQ%3D%3D?line=2'>3</a>\u001b[0m     workdir\u001b[39m=\u001b[39;49mworkdir, \u001b[39m# for loading checkpoints \u001b[39;49;00m\n\u001b[1;32m      <a href='vscode-notebook-cell:/Users/miamirabelli/Desktop/GNN%20Research/lorenzGNN/runtime_tests.ipynb#X16sZmlsZQ%3D%3D?line=3'>4</a>\u001b[0m     plot_ith_rollout_step\u001b[39m=\u001b[39;49m\u001b[39m0\u001b[39;49m, \u001b[39m# 0 indexed # for this study, we have a 4-step rollout \u001b[39;49;00m\n\u001b[1;32m      <a href='vscode-notebook-cell:/Users/miamirabelli/Desktop/GNN%20Research/lorenzGNN/runtime_tests.ipynb#X16sZmlsZQ%3D%3D?line=4'>5</a>\u001b[0m     \u001b[39m# dataset,\u001b[39;49;00m\n\u001b[1;32m      <a href='vscode-notebook-cell:/Users/miamirabelli/Desktop/GNN%20Research/lorenzGNN/runtime_tests.ipynb#X16sZmlsZQ%3D%3D?line=5'>6</a>\u001b[0m     \u001b[39m# preds,\u001b[39;49;00m\n\u001b[1;32m      <a href='vscode-notebook-cell:/Users/miamirabelli/Desktop/GNN%20Research/lorenzGNN/runtime_tests.ipynb#X16sZmlsZQ%3D%3D?line=6'>7</a>\u001b[0m     \u001b[39m# timestep_duration,\u001b[39;49;00m\n\u001b[1;32m      <a href='vscode-notebook-cell:/Users/miamirabelli/Desktop/GNN%20Research/lorenzGNN/runtime_tests.ipynb#X16sZmlsZQ%3D%3D?line=7'>8</a>\u001b[0m     \u001b[39m# n_rollout_steps,\u001b[39;49;00m\n\u001b[1;32m      <a href='vscode-notebook-cell:/Users/miamirabelli/Desktop/GNN%20Research/lorenzGNN/runtime_tests.ipynb#X16sZmlsZQ%3D%3D?line=8'>9</a>\u001b[0m     \u001b[39m#  total_steps,\u001b[39;49;00m\n\u001b[1;32m     <a href='vscode-notebook-cell:/Users/miamirabelli/Desktop/GNN%20Research/lorenzGNN/runtime_tests.ipynb#X16sZmlsZQ%3D%3D?line=9'>10</a>\u001b[0m     node\u001b[39m=\u001b[39;49m\u001b[39m0\u001b[39;49m, \u001b[39m# 0-indexed \u001b[39;49;00m\n\u001b[1;32m     <a href='vscode-notebook-cell:/Users/miamirabelli/Desktop/GNN%20Research/lorenzGNN/runtime_tests.ipynb#X16sZmlsZQ%3D%3D?line=10'>11</a>\u001b[0m     plot_mode\u001b[39m=\u001b[39;49m\u001b[39m\"\u001b[39;49m\u001b[39mval\u001b[39;49m\u001b[39m\"\u001b[39;49m, \u001b[39m# i.e. \"train\"/\"val\"/\"test\"\u001b[39;49;00m\n\u001b[1;32m     <a href='vscode-notebook-cell:/Users/miamirabelli/Desktop/GNN%20Research/lorenzGNN/runtime_tests.ipynb#X16sZmlsZQ%3D%3D?line=11'>12</a>\u001b[0m     plot_days\u001b[39m=\u001b[39;49m\u001b[39m60\u001b[39;49m,\n\u001b[1;32m     <a href='vscode-notebook-cell:/Users/miamirabelli/Desktop/GNN%20Research/lorenzGNN/runtime_tests.ipynb#X16sZmlsZQ%3D%3D?line=12'>13</a>\u001b[0m     title\u001b[39m=\u001b[39;49m\u001b[39m\"\u001b[39;49m\u001b[39mVal Predictions for node 0, rollout step 0\u001b[39;49m\u001b[39m\"\u001b[39;49m\n\u001b[1;32m     <a href='vscode-notebook-cell:/Users/miamirabelli/Desktop/GNN%20Research/lorenzGNN/runtime_tests.ipynb#X16sZmlsZQ%3D%3D?line=13'>14</a>\u001b[0m )\n",
      "File \u001b[0;32m~/Desktop/GNN Research/lorenzGNN/utils/jraph_vis.py:156\u001b[0m, in \u001b[0;36mplot_predictions\u001b[0;34m(config, workdir, plot_ith_rollout_step, node, plot_mode, datasets, plot_days, title)\u001b[0m\n\u001b[1;32m    154\u001b[0m \u001b[39mif\u001b[39;00m datasets \u001b[39mis\u001b[39;00m \u001b[39mNone\u001b[39;00m:\n\u001b[1;32m    155\u001b[0m     logging\u001b[39m.\u001b[39minfo(\u001b[39m'\u001b[39m\u001b[39mGenerating datasets from config because none provided.\u001b[39m\u001b[39m'\u001b[39m)\n\u001b[0;32m--> 156\u001b[0m     datasets \u001b[39m=\u001b[39m create_dataset(config)\n\u001b[1;32m    158\u001b[0m plot_set \u001b[39m=\u001b[39m datasets[plot_mode]\n\u001b[1;32m    159\u001b[0m input_data \u001b[39m=\u001b[39m plot_set[\u001b[39m'\u001b[39m\u001b[39minputs\u001b[39m\u001b[39m'\u001b[39m]\n",
      "File \u001b[0;32m~/Desktop/GNN Research/lorenzGNN/utils/jraph_training.py:97\u001b[0m, in \u001b[0;36mcreate_dataset\u001b[0;34m(config)\u001b[0m\n\u001b[1;32m     94\u001b[0m \u001b[39mdef\u001b[39;00m \u001b[39mcreate_dataset\u001b[39m(    \n\u001b[1;32m     95\u001b[0m     config: ml_collections\u001b[39m.\u001b[39mConfigDict,\n\u001b[1;32m     96\u001b[0m ) \u001b[39m-\u001b[39m\u001b[39m>\u001b[39m Dict[\u001b[39mstr\u001b[39m, Dict[\u001b[39mstr\u001b[39m, Iterable[jraph\u001b[39m.\u001b[39mGraphsTuple]]]:\n\u001b[0;32m---> 97\u001b[0m     dataset \u001b[39m=\u001b[39m get_lorenz_graph_tuples(\n\u001b[1;32m     98\u001b[0m         n_samples\u001b[39m=\u001b[39;49mconfig\u001b[39m.\u001b[39;49mn_samples,\n\u001b[1;32m     99\u001b[0m         input_steps\u001b[39m=\u001b[39;49mconfig\u001b[39m.\u001b[39;49minput_steps,\n\u001b[1;32m    100\u001b[0m         output_delay\u001b[39m=\u001b[39;49mconfig\u001b[39m.\u001b[39;49moutput_delay,\n\u001b[1;32m    101\u001b[0m         output_steps\u001b[39m=\u001b[39;49mconfig\u001b[39m.\u001b[39;49moutput_steps,\n\u001b[1;32m    102\u001b[0m         timestep_duration\u001b[39m=\u001b[39;49mconfig\u001b[39m.\u001b[39;49mtimestep_duration,\n\u001b[1;32m    103\u001b[0m         sample_buffer\u001b[39m=\u001b[39;49mconfig\u001b[39m.\u001b[39;49msample_buffer,\n\u001b[1;32m    104\u001b[0m         time_resolution\u001b[39m=\u001b[39;49mconfig\u001b[39m.\u001b[39;49mtime_resolution,\n\u001b[1;32m    105\u001b[0m         init_buffer_samples\u001b[39m=\u001b[39;49mconfig\u001b[39m.\u001b[39;49minit_buffer_samples,\n\u001b[1;32m    106\u001b[0m         train_pct\u001b[39m=\u001b[39;49mconfig\u001b[39m.\u001b[39;49mtrain_pct,\n\u001b[1;32m    107\u001b[0m         val_pct\u001b[39m=\u001b[39;49mconfig\u001b[39m.\u001b[39;49mval_pct,\n\u001b[1;32m    108\u001b[0m         test_pct\u001b[39m=\u001b[39;49mconfig\u001b[39m.\u001b[39;49mtest_pct,\n\u001b[1;32m    109\u001b[0m         K\u001b[39m=\u001b[39;49mconfig\u001b[39m.\u001b[39;49mK,\n\u001b[1;32m    110\u001b[0m         F\u001b[39m=\u001b[39;49mconfig\u001b[39m.\u001b[39;49mF,\n\u001b[1;32m    111\u001b[0m         c\u001b[39m=\u001b[39;49mconfig\u001b[39m.\u001b[39;49mc,\n\u001b[1;32m    112\u001b[0m         b\u001b[39m=\u001b[39;49mconfig\u001b[39m.\u001b[39;49mb,\n\u001b[1;32m    113\u001b[0m         h\u001b[39m=\u001b[39;49mconfig\u001b[39m.\u001b[39;49mh,\n\u001b[1;32m    114\u001b[0m         seed\u001b[39m=\u001b[39;49mconfig\u001b[39m.\u001b[39;49mseed,\n\u001b[1;32m    115\u001b[0m         normalize\u001b[39m=\u001b[39;49mconfig\u001b[39m.\u001b[39;49mnormalize,\n\u001b[1;32m    116\u001b[0m         fully_connected_edges\u001b[39m=\u001b[39;49mconfig\u001b[39m.\u001b[39;49mfully_connected_edges)\n\u001b[1;32m    118\u001b[0m     \u001b[39mreturn\u001b[39;00m dataset\n",
      "File \u001b[0;32m~/Desktop/GNN Research/lorenzGNN/utils/jraph_data.py:194\u001b[0m, in \u001b[0;36mget_lorenz_graph_tuples\u001b[0;34m(n_samples, input_steps, output_delay, output_steps, timestep_duration, sample_buffer, time_resolution, init_buffer_samples, train_pct, val_pct, test_pct, K, F, c, b, h, seed, normalize, fully_connected_edges)\u001b[0m\n\u001b[1;32m    190\u001b[0m \u001b[39m# type: Dict[str, Dict[str, List[List[jraph.GraphsTuple]]]]\u001b[39;00m\n\u001b[1;32m    191\u001b[0m \n\u001b[1;32m    192\u001b[0m \u001b[39m# normalize data \u001b[39;00m\n\u001b[1;32m    193\u001b[0m \u001b[39mif\u001b[39;00m normalize:\n\u001b[0;32m--> 194\u001b[0m     graph_tuple_dict \u001b[39m=\u001b[39m normalize_lorenz96_2coupled(graph_tuple_dict)\n\u001b[1;32m    196\u001b[0m \u001b[39mreturn\u001b[39;00m graph_tuple_dict\n",
      "File \u001b[0;32m~/Desktop/GNN Research/lorenzGNN/utils/lorenz.py:327\u001b[0m, in \u001b[0;36mnormalize_lorenz96_2coupled\u001b[0;34m(graph_tuple_dict)\u001b[0m\n\u001b[1;32m    324\u001b[0m \u001b[39mfor\u001b[39;00m window \u001b[39min\u001b[39;00m graph_tuple_dict[data_mode][data_type]:\n\u001b[1;32m    325\u001b[0m     \u001b[39mfor\u001b[39;00m i, graphtuple \u001b[39min\u001b[39;00m \u001b[39menumerate\u001b[39m(window): \n\u001b[1;32m    326\u001b[0m         \u001b[39m# normalize data \u001b[39;00m\n\u001b[0;32m--> 327\u001b[0m         norm_X1 \u001b[39m=\u001b[39m (graphtuple\u001b[39m.\u001b[39;49mnodes[:, \u001b[39m0\u001b[39;49m] \u001b[39m-\u001b[39m X1_mean) \u001b[39m/\u001b[39m X1_std\n\u001b[1;32m    328\u001b[0m         norm_X2 \u001b[39m=\u001b[39m (graphtuple\u001b[39m.\u001b[39mnodes[:, \u001b[39m1\u001b[39m] \u001b[39m-\u001b[39m X2_mean) \u001b[39m/\u001b[39m X2_std\n\u001b[1;32m    329\u001b[0m         \u001b[39m# reassign data \u001b[39;00m\n",
      "File \u001b[0;32m~/Desktop/GNN Research/lorenzGNN/venv/lib/python3.11/site-packages/jax/_src/array.py:323\u001b[0m, in \u001b[0;36mArrayImpl.__getitem__\u001b[0;34m(self, idx)\u001b[0m\n\u001b[1;32m    321\u001b[0m   \u001b[39mreturn\u001b[39;00m lax_numpy\u001b[39m.\u001b[39m_rewriting_take(\u001b[39mself\u001b[39m, idx)\n\u001b[1;32m    322\u001b[0m \u001b[39melse\u001b[39;00m:\n\u001b[0;32m--> 323\u001b[0m   \u001b[39mreturn\u001b[39;00m lax_numpy\u001b[39m.\u001b[39;49m_rewriting_take(\u001b[39mself\u001b[39;49m, idx)\n",
      "File \u001b[0;32m~/Desktop/GNN Research/lorenzGNN/venv/lib/python3.11/site-packages/jax/_src/numpy/lax_numpy.py:4348\u001b[0m, in \u001b[0;36m_rewriting_take\u001b[0;34m(arr, idx, indices_are_sorted, unique_indices, mode, fill_value)\u001b[0m\n\u001b[1;32m   4339\u001b[0m \u001b[39mdef\u001b[39;00m \u001b[39m_rewriting_take\u001b[39m(arr, idx, indices_are_sorted\u001b[39m=\u001b[39m\u001b[39mFalse\u001b[39;00m, unique_indices\u001b[39m=\u001b[39m\u001b[39mFalse\u001b[39;00m,\n\u001b[1;32m   4340\u001b[0m                     mode\u001b[39m=\u001b[39m\u001b[39mNone\u001b[39;00m, fill_value\u001b[39m=\u001b[39m\u001b[39mNone\u001b[39;00m):\n\u001b[1;32m   4341\u001b[0m   \u001b[39m# Computes arr[idx].\u001b[39;00m\n\u001b[0;32m   (...)\u001b[0m\n\u001b[1;32m   4345\u001b[0m   \u001b[39m# For simplicity of generated primitives, we call lax.dynamic_slice in the\u001b[39;00m\n\u001b[1;32m   4346\u001b[0m   \u001b[39m# simplest cases: i.e. non-dynamic arrays indexed with integers and slices.\u001b[39;00m\n\u001b[0;32m-> 4348\u001b[0m   \u001b[39mif\u001b[39;00m (result \u001b[39m:=\u001b[39m _attempt_rewriting_take_via_slice(arr, idx, mode)) \u001b[39mis\u001b[39;00m \u001b[39mnot\u001b[39;00m \u001b[39mNone\u001b[39;00m:\n\u001b[1;32m   4349\u001b[0m     \u001b[39mreturn\u001b[39;00m result\n\u001b[1;32m   4351\u001b[0m   \u001b[39m# TODO(mattjj,dougalm): expand dynamic shape indexing support\u001b[39;00m\n",
      "File \u001b[0;32m~/Desktop/GNN Research/lorenzGNN/venv/lib/python3.11/site-packages/jax/_src/numpy/lax_numpy.py:4325\u001b[0m, in \u001b[0;36m_attempt_rewriting_take_via_slice\u001b[0;34m(arr, idx, mode)\u001b[0m\n\u001b[1;32m   4323\u001b[0m   int_start_indices \u001b[39m=\u001b[39m [\u001b[39mint\u001b[39m(i) \u001b[39mfor\u001b[39;00m i \u001b[39min\u001b[39;00m start_indices]  \u001b[39m# type: ignore\u001b[39;00m\n\u001b[1;32m   4324\u001b[0m   int_limit_indices \u001b[39m=\u001b[39m [i \u001b[39m+\u001b[39m s \u001b[39mfor\u001b[39;00m i, s \u001b[39min\u001b[39;00m \u001b[39mzip\u001b[39m(int_start_indices, slice_sizes)]\n\u001b[0;32m-> 4325\u001b[0m   arr \u001b[39m=\u001b[39m lax\u001b[39m.\u001b[39;49mslice(\n\u001b[1;32m   4326\u001b[0m       arr, start_indices\u001b[39m=\u001b[39;49mint_start_indices, limit_indices\u001b[39m=\u001b[39;49mint_limit_indices)\n\u001b[1;32m   4327\u001b[0m \u001b[39melse\u001b[39;00m:\n\u001b[1;32m   4328\u001b[0m   \u001b[39m# We must be careful with dtypes because dynamic_slice requires all\u001b[39;00m\n\u001b[1;32m   4329\u001b[0m   \u001b[39m# start indices to have matching types.\u001b[39;00m\n\u001b[1;32m   4330\u001b[0m   \u001b[39mif\u001b[39;00m \u001b[39mlen\u001b[39m(start_indices) \u001b[39m>\u001b[39m \u001b[39m1\u001b[39m:\n",
      "File \u001b[0;32m~/Desktop/GNN Research/lorenzGNN/venv/lib/python3.11/site-packages/jax/_src/lax/slicing.py:106\u001b[0m, in \u001b[0;36mslice\u001b[0;34m(operand, start_indices, limit_indices, strides)\u001b[0m\n\u001b[1;32m     55\u001b[0m \u001b[39mdef\u001b[39;00m \u001b[39mslice\u001b[39m(operand: ArrayLike, start_indices: Sequence[\u001b[39mint\u001b[39m],\n\u001b[1;32m     56\u001b[0m           limit_indices: Sequence[\u001b[39mint\u001b[39m],\n\u001b[1;32m     57\u001b[0m           strides: Optional[Sequence[\u001b[39mint\u001b[39m]] \u001b[39m=\u001b[39m \u001b[39mNone\u001b[39;00m) \u001b[39m-\u001b[39m\u001b[39m>\u001b[39m Array:\n\u001b[1;32m     58\u001b[0m \u001b[39m  \u001b[39m\u001b[39m\"\"\"Wraps XLA's `Slice\u001b[39;00m\n\u001b[1;32m     59\u001b[0m \u001b[39m  <https://www.tensorflow.org/xla/operation_semantics#slice>`_\u001b[39;00m\n\u001b[1;32m     60\u001b[0m \u001b[39m  operator.\u001b[39;00m\n\u001b[0;32m   (...)\u001b[0m\n\u001b[1;32m    104\u001b[0m \u001b[39m    - :func:`jax.lax.dynamic_slice`\u001b[39;00m\n\u001b[1;32m    105\u001b[0m \u001b[39m  \"\"\"\u001b[39;00m\n\u001b[0;32m--> 106\u001b[0m   \u001b[39mreturn\u001b[39;00m slice_p\u001b[39m.\u001b[39;49mbind(operand, start_indices\u001b[39m=\u001b[39;49m\u001b[39mtuple\u001b[39;49m(start_indices),\n\u001b[1;32m    107\u001b[0m                       limit_indices\u001b[39m=\u001b[39;49m\u001b[39mtuple\u001b[39;49m(limit_indices),\n\u001b[1;32m    108\u001b[0m                       strides\u001b[39m=\u001b[39;49m\u001b[39mNone\u001b[39;49;00m \u001b[39mif\u001b[39;49;00m strides \u001b[39mis\u001b[39;49;00m \u001b[39mNone\u001b[39;49;00m \u001b[39melse\u001b[39;49;00m \u001b[39mtuple\u001b[39;49m(strides))\n",
      "File \u001b[0;32m~/Desktop/GNN Research/lorenzGNN/venv/lib/python3.11/site-packages/jax/_src/core.py:385\u001b[0m, in \u001b[0;36mPrimitive.bind\u001b[0;34m(self, *args, **params)\u001b[0m\n\u001b[1;32m    382\u001b[0m \u001b[39mdef\u001b[39;00m \u001b[39mbind\u001b[39m(\u001b[39mself\u001b[39m, \u001b[39m*\u001b[39margs, \u001b[39m*\u001b[39m\u001b[39m*\u001b[39mparams):\n\u001b[1;32m    383\u001b[0m   \u001b[39massert\u001b[39;00m (\u001b[39mnot\u001b[39;00m config\u001b[39m.\u001b[39menable_checks\u001b[39m.\u001b[39mvalue \u001b[39mor\u001b[39;00m\n\u001b[1;32m    384\u001b[0m           \u001b[39mall\u001b[39m(\u001b[39misinstance\u001b[39m(arg, Tracer) \u001b[39mor\u001b[39;00m valid_jaxtype(arg) \u001b[39mfor\u001b[39;00m arg \u001b[39min\u001b[39;00m args)), args\n\u001b[0;32m--> 385\u001b[0m   \u001b[39mreturn\u001b[39;00m \u001b[39mself\u001b[39;49m\u001b[39m.\u001b[39;49mbind_with_trace(find_top_trace(args), args, params)\n",
      "File \u001b[0;32m~/Desktop/GNN Research/lorenzGNN/venv/lib/python3.11/site-packages/jax/_src/core.py:388\u001b[0m, in \u001b[0;36mPrimitive.bind_with_trace\u001b[0;34m(self, trace, args, params)\u001b[0m\n\u001b[1;32m    387\u001b[0m \u001b[39mdef\u001b[39;00m \u001b[39mbind_with_trace\u001b[39m(\u001b[39mself\u001b[39m, trace, args, params):\n\u001b[0;32m--> 388\u001b[0m   out \u001b[39m=\u001b[39m trace\u001b[39m.\u001b[39;49mprocess_primitive(\u001b[39mself\u001b[39;49m, \u001b[39mmap\u001b[39;49m(trace\u001b[39m.\u001b[39;49mfull_raise, args), params)\n\u001b[1;32m    389\u001b[0m   \u001b[39mreturn\u001b[39;00m \u001b[39mmap\u001b[39m(full_lower, out) \u001b[39mif\u001b[39;00m \u001b[39mself\u001b[39m\u001b[39m.\u001b[39mmultiple_results \u001b[39melse\u001b[39;00m full_lower(out)\n",
      "File \u001b[0;32m~/Desktop/GNN Research/lorenzGNN/venv/lib/python3.11/site-packages/jax/_src/core.py:868\u001b[0m, in \u001b[0;36mEvalTrace.process_primitive\u001b[0;34m(self, primitive, tracers, params)\u001b[0m\n\u001b[1;32m    867\u001b[0m \u001b[39mdef\u001b[39;00m \u001b[39mprocess_primitive\u001b[39m(\u001b[39mself\u001b[39m, primitive, tracers, params):\n\u001b[0;32m--> 868\u001b[0m   \u001b[39mreturn\u001b[39;00m primitive\u001b[39m.\u001b[39;49mimpl(\u001b[39m*\u001b[39;49mtracers, \u001b[39m*\u001b[39;49m\u001b[39m*\u001b[39;49mparams)\n",
      "File \u001b[0;32m~/Desktop/GNN Research/lorenzGNN/venv/lib/python3.11/site-packages/jax/_src/lax/slicing.py:1167\u001b[0m, in \u001b[0;36m_slice_impl\u001b[0;34m(x, start_indices, limit_indices, strides)\u001b[0m\n\u001b[1;32m   1163\u001b[0m   \u001b[39mreturn\u001b[39;00m dispatch\u001b[39m.\u001b[39mapply_primitive(\n\u001b[1;32m   1164\u001b[0m     slice_p, x, start_indices\u001b[39m=\u001b[39mstart_indices,\n\u001b[1;32m   1165\u001b[0m     limit_indices\u001b[39m=\u001b[39mlimit_indices, strides\u001b[39m=\u001b[39mstrides)\n\u001b[1;32m   1166\u001b[0m slice_sizes \u001b[39m=\u001b[39m \u001b[39mtuple\u001b[39m(np\u001b[39m.\u001b[39marray(limit_indices) \u001b[39m-\u001b[39m np\u001b[39m.\u001b[39marray(start_indices))\n\u001b[0;32m-> 1167\u001b[0m \u001b[39mreturn\u001b[39;00m dispatch\u001b[39m.\u001b[39;49mapply_primitive(dynamic_slice_p, x, \u001b[39m*\u001b[39;49mstart_indices,\n\u001b[1;32m   1168\u001b[0m                                 slice_sizes\u001b[39m=\u001b[39;49mslice_sizes)\n",
      "File \u001b[0;32m~/Desktop/GNN Research/lorenzGNN/venv/lib/python3.11/site-packages/jax/_src/dispatch.py:140\u001b[0m, in \u001b[0;36mapply_primitive\u001b[0;34m(prim, *args, **params)\u001b[0m\n\u001b[1;32m    136\u001b[0m   msg \u001b[39m=\u001b[39m pjit\u001b[39m.\u001b[39m_device_assignment_mismatch_error(\n\u001b[1;32m    137\u001b[0m       prim\u001b[39m.\u001b[39mname, fails, args, \u001b[39m'\u001b[39m\u001b[39mjit\u001b[39m\u001b[39m'\u001b[39m, arg_names)\n\u001b[1;32m    138\u001b[0m   \u001b[39mraise\u001b[39;00m \u001b[39mValueError\u001b[39;00m(msg) \u001b[39mfrom\u001b[39;00m \u001b[39mNone\u001b[39;00m\n\u001b[0;32m--> 140\u001b[0m \u001b[39mreturn\u001b[39;00m compiled_fun(\u001b[39m*\u001b[39;49margs)\n",
      "File \u001b[0;32m~/Desktop/GNN Research/lorenzGNN/venv/lib/python3.11/site-packages/jax/_src/dispatch.py:172\u001b[0m, in \u001b[0;36mxla_primitive_callable.<locals>.<lambda>\u001b[0;34m(*args, **kw)\u001b[0m\n\u001b[1;32m    170\u001b[0m   call \u001b[39m=\u001b[39m compiled\u001b[39m.\u001b[39munsafe_call\n\u001b[1;32m    171\u001b[0m \u001b[39mif\u001b[39;00m \u001b[39mnot\u001b[39;00m prim\u001b[39m.\u001b[39mmultiple_results:\n\u001b[0;32m--> 172\u001b[0m   \u001b[39mreturn\u001b[39;00m \u001b[39mlambda\u001b[39;00m \u001b[39m*\u001b[39margs, \u001b[39m*\u001b[39m\u001b[39m*\u001b[39mkw: call(\u001b[39m*\u001b[39;49margs, \u001b[39m*\u001b[39;49m\u001b[39m*\u001b[39;49mkw)[\u001b[39m0\u001b[39m]\n\u001b[1;32m    173\u001b[0m \u001b[39melse\u001b[39;00m:\n\u001b[1;32m    174\u001b[0m   \u001b[39mreturn\u001b[39;00m call\n",
      "\u001b[0;31mKeyboardInterrupt\u001b[0m: "
     ]
    }
   ],
   "source": [
    "plot_predictions(\n",
    "    config=config,\n",
    "    workdir=workdir, # for loading checkpoints \n",
    "    plot_ith_rollout_step=0, # 0 indexed # for this study, we have a 4-step rollout \n",
    "    # dataset,\n",
    "    # preds,\n",
    "    # timestep_duration,\n",
    "    # n_rollout_steps,\n",
    "    #  total_steps,\n",
    "    node=0, # 0-indexed \n",
    "    plot_mode=\"val\", # i.e. \"train\"/\"val\"/\"test\"\n",
    "    plot_days=60,\n",
    "    title=\"Val Predictions for node 0, rollout step 0\"\n",
    ")"
   ]
  }
 ],
 "metadata": {
  "kernelspec": {
   "display_name": "venv",
   "language": "python",
   "name": "python3"
  },
  "language_info": {
   "codemirror_mode": {
    "name": "ipython",
    "version": 3
   },
   "file_extension": ".py",
   "mimetype": "text/x-python",
   "name": "python",
   "nbconvert_exporter": "python",
   "pygments_lexer": "ipython3",
   "version": "3.11.8"
  }
 },
 "nbformat": 4,
 "nbformat_minor": 2
}
